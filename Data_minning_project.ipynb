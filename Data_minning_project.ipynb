{
  "nbformat": 4,
  "nbformat_minor": 0,
  "metadata": {
    "colab": {
      "private_outputs": true,
      "provenance": []
    },
    "kernelspec": {
      "name": "python3",
      "display_name": "Python 3"
    },
    "language_info": {
      "name": "python"
    }
  },
  "cells": [
    {
      "cell_type": "markdown",
      "source": [
        "# ***Recession Predictive model***"
      ],
      "metadata": {
        "id": "qYJcJkPA3obw"
      }
    },
    {
      "cell_type": "markdown",
      "source": [
        "# ![recession.jpg](data:image/jpeg;base64,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)"
      ],
      "metadata": {
        "id": "ULfSi1-z3hID"
      }
    },
    {
      "cell_type": "markdown",
      "source": [
        "### Data Cleaning & visulization"
      ],
      "metadata": {
        "id": "RyFb9-UCfWO3"
      }
    },
    {
      "cell_type": "code",
      "execution_count": null,
      "metadata": {
        "id": "5vC70EKgw7pi"
      },
      "outputs": [],
      "source": [
        "# Importing the required libraries.\n",
        "import pandas as pd"
      ]
    },
    {
      "cell_type": "code",
      "source": [
        "#Load the dataset\n",
        "from google.colab import files\n",
        "file = files.upload()  #upload file into google colab session"
      ],
      "metadata": {
        "id": "tPWyk0DsyjlK"
      },
      "execution_count": null,
      "outputs": []
    },
    {
      "cell_type": "code",
      "source": [
        "df1 = pd.read_csv(\"Consumer_price_index.csv\")\n",
        "df1.head()"
      ],
      "metadata": {
        "id": "xSPkDAd0ziS4"
      },
      "execution_count": null,
      "outputs": []
    },
    {
      "cell_type": "code",
      "source": [
        "df1.rename(columns = {'CPALTT01USQ657N':'CPI'}, inplace = True)\n",
        "df1['DATE'] = df1['DATE'].astype('datetime64[ns]')\n",
        "df1.head()"
      ],
      "metadata": {
        "id": "dJYqjNnC0Fvy"
      },
      "execution_count": null,
      "outputs": []
    },
    {
      "cell_type": "code",
      "source": [
        "df2 = pd.read_csv(\"Retail Sales.csv\")\n",
        "df2.head()"
      ],
      "metadata": {
        "id": "rCicmzQbgLii"
      },
      "execution_count": null,
      "outputs": []
    },
    {
      "cell_type": "code",
      "source": [
        "df2.rename(columns = {'value':'Retail Sales'}, inplace = True)\n",
        "df2['DATE'] = df2['DATE'].astype('datetime64[ns]')\n",
        "df2 = df2.drop(\"Unnamed: 0\", axis=1)\n",
        "df2.head()"
      ],
      "metadata": {
        "id": "_EtFNBcigNZY"
      },
      "execution_count": null,
      "outputs": []
    },
    {
      "cell_type": "code",
      "source": [
        "df3 = pd.read_csv(\"Consumer Loans.csv\")\n",
        "df3.head()"
      ],
      "metadata": {
        "id": "RGzLx-P7g65j"
      },
      "execution_count": null,
      "outputs": []
    },
    {
      "cell_type": "code",
      "source": [
        "df3.rename(columns = {'CLSACBQ158SBOG':'Consumer Debt'}, inplace = True)\n",
        "df3['DATE'] = df3['DATE'].astype('datetime64[ns]')\n",
        "df3.head()"
      ],
      "metadata": {
        "id": "R_209GBihAOq"
      },
      "execution_count": null,
      "outputs": []
    },
    {
      "cell_type": "code",
      "source": [
        "df4 = pd.read_csv(\"wage_1.csv\")\n",
        "df4.head()"
      ],
      "metadata": {
        "id": "vth1mQ7shGAZ"
      },
      "execution_count": null,
      "outputs": []
    },
    {
      "cell_type": "code",
      "source": [
        "df4['DATE'] = df4['DATE'].astype('datetime64[ns]')\n",
        "df4.head()"
      ],
      "metadata": {
        "id": "DT6AwCeQhpnx"
      },
      "execution_count": null,
      "outputs": []
    },
    {
      "cell_type": "code",
      "source": [
        "df5 = pd.read_csv(\"GDP.csv\")\n",
        "df5['DATE'] = df5['DATE'].astype('datetime64[ns]')\n",
        "df5.head()"
      ],
      "metadata": {
        "id": "pCvyk8VJhu0M"
      },
      "execution_count": null,
      "outputs": []
    },
    {
      "cell_type": "code",
      "source": [
        "df6 = pd.read_csv(\"Employment.csv\")\n",
        "df6['DATE'] = df6['Label'].astype('datetime64[ns]')\n",
        "df6.head()"
      ],
      "metadata": {
        "id": "Ullrer7AiHl5"
      },
      "execution_count": null,
      "outputs": []
    },
    {
      "cell_type": "code",
      "source": [
        "df6.drop(['Year', 'Period', 'Label'], axis = 1, inplace = True)\n",
        "df6.rename(columns = {'Value':'Employment Rate'}, inplace = True)"
      ],
      "metadata": {
        "id": "6FDFfSUDiW23"
      },
      "execution_count": null,
      "outputs": []
    },
    {
      "cell_type": "code",
      "source": [
        "df7 = pd.read_csv(\"Industrial Production.csv\")\n",
        "df7.rename(columns = {'IPB50001SQ':'Industrial Production'}, inplace = True)\n",
        "df7['DATE'] = df7['DATE'].astype('datetime64[ns]')\n",
        "df7.head()"
      ],
      "metadata": {
        "id": "oqad44x9i_8n"
      },
      "execution_count": null,
      "outputs": []
    },
    {
      "cell_type": "code",
      "source": [
        "df8 = pd.read_csv(\"House Price Index.csv\")\n",
        "df8.rename(columns = {'USSTHPI':'House market'}, inplace = True)\n",
        "df8['DATE'] = df8['DATE'].astype('datetime64[ns]')\n",
        "df8.head()"
      ],
      "metadata": {
        "id": "ARSVBH66kbdw"
      },
      "execution_count": null,
      "outputs": []
    },
    {
      "cell_type": "code",
      "source": [
        "df9 = pd.read_excel(\"trade balance.xls\")\n",
        "df9['DATE'] = df9['DATE'].astype('datetime64[ns]')\n",
        "df9.head()"
      ],
      "metadata": {
        "id": "5Bn7cOTVlBkh"
      },
      "execution_count": null,
      "outputs": []
    },
    {
      "cell_type": "code",
      "source": [
        "df10 = pd.read_csv(\"stock prices.csv\")\n",
        "df10.rename(columns = {'SPASTT01USQ661N':'Stock market'}, inplace = True)\n",
        "df10['DATE'] = df10['DATE'].astype('datetime64[ns]')\n",
        "df10.head()"
      ],
      "metadata": {
        "id": "PTZYx0dSlaRX"
      },
      "execution_count": null,
      "outputs": []
    },
    {
      "cell_type": "code",
      "source": [
        "df11 = pd.read_csv(\"Interest Rates.csv\")\n",
        "df11.rename(columns = {'BOGZ1FL072052006Q':'Interest Rates'}, inplace = True)\n",
        "df11['DATE'] = df11['DATE'].astype('datetime64[ns]')\n",
        "df11.head()"
      ],
      "metadata": {
        "id": "teeu1FFhmIl0"
      },
      "execution_count": null,
      "outputs": []
    },
    {
      "cell_type": "code",
      "source": [
        "df12 = pd.read_csv(\"Money supply.csv\")\n",
        "df12.rename(columns = {'MANMM101USQ189S':'Money supply'}, inplace = True)\n",
        "df12['DATE'] = df12['DATE'].astype('datetime64[ns]')\n",
        "df12.head()"
      ],
      "metadata": {
        "id": "SHM_0zrdmpbB"
      },
      "execution_count": null,
      "outputs": []
    },
    {
      "cell_type": "code",
      "source": [
        "df13 = pd.read_excel(\"Target.xlsx\")\n",
        "df13['DATE'] = df13['DATE'].astype('datetime64[ns]')\n",
        "df13.head()"
      ],
      "metadata": {
        "id": "dHSzlQRtcF6J"
      },
      "execution_count": null,
      "outputs": []
    },
    {
      "cell_type": "code",
      "source": [
        "df = pd.merge(df1, df2, on = 'DATE', how = 'left')\n",
        "df = pd.merge(df, df3, on = 'DATE', how = 'left')\n",
        "df = pd.merge(df, df4, on = 'DATE', how = 'left')\n",
        "df = pd.merge(df, df5, on = 'DATE', how = 'left')\n",
        "df = pd.merge(df, df6, on = 'DATE', how = 'left')\n",
        "df = pd.merge(df, df7, on = 'DATE', how = 'left')\n",
        "df = pd.merge(df, df8, on = 'DATE', how = 'left')\n",
        "df = pd.merge(df, df9, on = 'DATE', how = 'left')\n",
        "df = pd.merge(df, df10, on = 'DATE', how = 'left')\n",
        "df = pd.merge(df, df11, on = 'DATE', how = 'left')\n",
        "df = pd.merge(df, df12, on = 'DATE', how = 'left')\n",
        "df = pd.merge(df, df13, on = 'DATE', how = 'left')\n",
        "df"
      ],
      "metadata": {
        "id": "vHVs0gRSnJBl"
      },
      "execution_count": null,
      "outputs": []
    },
    {
      "cell_type": "code",
      "source": [
        "import pandas as pd\n",
        "import numpy as np\n",
        "# Identify columns with missing values\n",
        "missing_cols = df.columns[df.isnull().any()]\n",
        "\n",
        "# For each column with missing values, compute top non-zero values\n",
        "for col in missing_cols:\n",
        "    non_zero_values = df[col][df[col] != 0].value_counts().index.tolist()\n",
        "\n",
        "    # Impute missing values with top non-zero values\n",
        "    df[col] = df[col].fillna(pd.Series(np.random.choice(non_zero_values, size=len(df[col][df[col].isnull()]))))"
      ],
      "metadata": {
        "id": "IfQuWCE2Yi8p"
      },
      "execution_count": null,
      "outputs": []
    },
    {
      "cell_type": "code",
      "source": [
        "df"
      ],
      "metadata": {
        "id": "dygoP07PY10w"
      },
      "execution_count": null,
      "outputs": []
    },
    {
      "cell_type": "code",
      "source": [
        "df.dtypes"
      ],
      "metadata": {
        "id": "1LPBIrFfhA8m"
      },
      "execution_count": null,
      "outputs": []
    },
    {
      "cell_type": "code",
      "source": [
        "import pandas as pd\n",
        "from sklearn.decomposition import PCA\n",
        "from sklearn.preprocessing import StandardScaler\n",
        "\n",
        "# Load the dataset into a Pandas dataframe\n",
        "\n",
        "# Separate the target variable from the predictors\n",
        "target = df['Target']\n",
        "predictors = df.drop(['Retail Sales', 'Series ID', 'DATE', 'Target'], axis=1)\n",
        "\n",
        "# Standardize the predictors to have mean=0 and variance=1\n",
        "scaler = StandardScaler()\n",
        "predictors_scaled = scaler.fit_transform(predictors)\n",
        "\n",
        "# Perform PCA to reduce the dimensionality of the predictors\n",
        "pca = PCA()\n",
        "pca.fit(predictors_scaled)\n",
        "explained_variance = pca.explained_variance_ratio_\n",
        "cumulative_variance = np.cumsum(explained_variance)\n",
        "num_components = np.argmax(cumulative_variance >= 0.95) + 1\n",
        "print(f\"Number of components needed to explain 95% of the variance: {num_components}\")\n",
        "\n",
        "# Project the data onto the top k principal components\n",
        "pca = PCA(n_components=num_components)\n",
        "predictors_pca = pca.fit_transform(predictors_scaled)"
      ],
      "metadata": {
        "id": "xgZyagnIosPu"
      },
      "execution_count": null,
      "outputs": []
    },
    {
      "cell_type": "code",
      "source": [
        "import pandas as pd\n",
        "\n",
        "# Calculate the correlation between each feature and the target variable\n",
        "corr_matrix = df.corr()\n",
        "corr_with_target = corr_matrix['Target']\n",
        "\n",
        "# Print the correlation values in descending order\n",
        "print(corr_with_target.sort_values(ascending=False))"
      ],
      "metadata": {
        "id": "mPPxEObjjV93"
      },
      "execution_count": null,
      "outputs": []
    },
    {
      "cell_type": "code",
      "source": [
        "print(df.isnull().sum())"
      ],
      "metadata": {
        "id": "qum3U7xMYui3"
      },
      "execution_count": null,
      "outputs": []
    },
    {
      "cell_type": "code",
      "source": [
        "import pandas as pd\n",
        "import numpy as np\n",
        "from matplotlib import pyplot as plt\n",
        "\n",
        "# Set the figure size\n",
        "plt.rcParams[\"figure.figsize\"] = [20, 10]\n",
        "plt.rcParams[\"figure.autolayout\"] = True\n",
        "\n",
        "# Plot the dataframe\n",
        "ax = df[['CPI','Retail Sales','Consumer Debt','Wage Growth','GDP','Employment Rate','Industrial Production',\n",
        "           'House market','Trade balance ','Stock market','Interest Rates', 'Money supply']].plot(kind='box', title='boxplot')\n",
        "\n",
        "# Display the plot\n",
        "plt.show()"
      ],
      "metadata": {
        "id": "F3mEVZbQeyRr"
      },
      "execution_count": null,
      "outputs": []
    },
    {
      "cell_type": "code",
      "source": [
        "#after\n",
        "# Select numerical columns\n",
        "df1 = df.select_dtypes(include=['float', 'int'])\n",
        "\n",
        "# Min-Max scaling to bring the range between -1 and 1\n",
        "df1 = 2 * (df1 - df1.min()) / (df1.max() - df1.min()) - 1\n",
        "\n",
        "# Consider only the following variables in your analysis:\n",
        "# 'GDP','Income composition of resources','Schooling',and 'Total expenditure'.\n",
        "df2 = df1[['CPI','Consumer Debt','Wage Growth','GDP','Employment Rate','Industrial Production',\n",
        "           'House market','Trade balance ','Stock market','Interest Rates', 'Money supply']]\n",
        "df2.head()"
      ],
      "metadata": {
        "id": "d_ebAgx3toQ2"
      },
      "execution_count": null,
      "outputs": []
    },
    {
      "cell_type": "code",
      "source": [
        "#after\n",
        "df2.describe(include = 'all')"
      ],
      "metadata": {
        "id": "KyK3FG0ftuSm"
      },
      "execution_count": null,
      "outputs": []
    },
    {
      "cell_type": "code",
      "source": [
        "#after\n",
        "# Calculate the correlation matrix\n",
        "corr_matrix = df2.corr()\n",
        "\n",
        "# Display the correlation matrix\n",
        "#print(corr_matrix)"
      ],
      "metadata": {
        "id": "MXirZEMgt7WJ"
      },
      "execution_count": null,
      "outputs": []
    },
    {
      "cell_type": "code",
      "source": [
        "# Select the target variable from your target dataframe\n",
        "target_var = df['Target']\n",
        "\n",
        "# Calculate the correlation between the target variable and the variables in df2\n",
        "corr_with_target = df2.corrwith(target_var)\n",
        "\n",
        "# Display the correlation coefficients in descending order\n",
        "print(corr_with_target.sort_values(ascending=False))"
      ],
      "metadata": {
        "id": "7bQFuaSwt7YY"
      },
      "execution_count": null,
      "outputs": []
    },
    {
      "cell_type": "code",
      "source": [
        "import pandas as pd\n",
        "from sklearn.decomposition import PCA\n",
        "from sklearn.preprocessing import StandardScaler\n",
        "\n",
        "# Load the dataset into a Pandas dataframe\n",
        "\n",
        "# Separate the target variable from the predictors\n",
        "target = df['Target']\n",
        "predictors = df2\n",
        "\n",
        "# Standardize the predictors to have mean=0 and variance=1\n",
        "scaler = StandardScaler()\n",
        "predictors_scaled = scaler.fit_transform(predictors)\n",
        "\n",
        "# Perform PCA to reduce the dimensionality of the predictors\n",
        "pca = PCA()\n",
        "pca.fit(predictors_scaled)\n",
        "explained_variance = pca.explained_variance_ratio_\n",
        "cumulative_variance = np.cumsum(explained_variance)\n",
        "num_components = np.argmax(cumulative_variance >= 0.99) + 1\n",
        "print(f\"Number of components needed to explain 95% of the variance: {num_components}\")\n",
        "\n",
        "# Project the data onto the top k principal components\n",
        "pca = PCA(n_components=num_components)\n",
        "predictors_pca = pca.fit_transform(predictors_scaled)"
      ],
      "metadata": {
        "id": "xOG1u7yvt7au"
      },
      "execution_count": null,
      "outputs": []
    },
    {
      "cell_type": "code",
      "source": [
        "feature_names = predictors.columns\n",
        "\n",
        "# Get the top 9 principal components\n",
        "top_components = pca.components_[:9, :]\n",
        "\n",
        "# Get the indices of the top 9 variables for each principal component\n",
        "top_variable_indices = [list(abs(top_components[i]).argsort()[::-1][:9]) for i in range(9)]\n",
        "\n",
        "# Get the names of the top 9 variables for each principal component\n",
        "top_variable_names = [[feature_names[index] for index in indices] for indices in top_variable_indices]\n",
        "\n",
        "# Print the names of the top 9 variables for each principal component\n",
        "for i, component in enumerate(top_variable_names):\n",
        "    print(f\"Top 9 variables for Principal Component {i+1}: {', '.join(component)}\")"
      ],
      "metadata": {
        "id": "t3Rqqp0Dt7c7"
      },
      "execution_count": null,
      "outputs": []
    },
    {
      "cell_type": "code",
      "source": [
        "import pandas as pd\n",
        "\n",
        "# Define a function to get the variable names for each principal component\n",
        "def get_top_variable_names(top_indices, feature_names):\n",
        "    return [feature_names[index] for index in top_indices]\n",
        "\n",
        "# Create a dictionary to store the top variable names for each principal component\n",
        "top_variable_dict = {}\n",
        "\n",
        "for i, indices in enumerate(top_variable_indices):\n",
        "    # Get the variable names for the current principal component\n",
        "    top_variables = get_top_variable_names(indices, feature_names)\n",
        "\n",
        "    # Add the variable names to the dictionary\n",
        "    top_variable_dict[f\"PC{i+1}\"] = top_variables\n",
        "\n",
        "# Create a dataframe from the dictionary\n",
        "top_variable_df = pd.DataFrame(top_variable_dict)"
      ],
      "metadata": {
        "id": "QY-Wllgoz9xd"
      },
      "execution_count": null,
      "outputs": []
    },
    {
      "cell_type": "code",
      "source": [
        "top_variable_df"
      ],
      "metadata": {
        "id": "TPw9LzVRz_58"
      },
      "execution_count": null,
      "outputs": []
    },
    {
      "cell_type": "code",
      "source": [
        "top_components = pca.components_[:9, :]\n",
        "\n",
        "# Get the indices of the top 9 variables for PC9\n",
        "pc9_variable_indices = list(abs(top_components[8]).argsort()[::-1][:9])\n",
        "\n",
        "# Get the values of the variables for PC9\n",
        "pc9_variables = list(predictors.columns[pc9_variable_indices])\n",
        "\n",
        "# Print the values of the variables for PC9 as a list\n",
        "print(pc9_variables)"
      ],
      "metadata": {
        "id": "dGDLYoyn0Tad"
      },
      "execution_count": null,
      "outputs": []
    },
    {
      "cell_type": "code",
      "source": [
        "df_final = df2[pc9_variables]\n",
        "#df_final = df_final.drop(['House market' , 'Employment Rate'], axis = 1)"
      ],
      "metadata": {
        "id": "pMwRDdGG0WDC"
      },
      "execution_count": null,
      "outputs": []
    },
    {
      "cell_type": "code",
      "source": [
        "df_final.head()"
      ],
      "metadata": {
        "id": "Z9VQA3xj0axu"
      },
      "execution_count": null,
      "outputs": []
    },
    {
      "cell_type": "code",
      "source": [
        "'''\n",
        "\n",
        "\n",
        "# Standardize the numeric variables in the given data frame.\n",
        "\n",
        "# Removing the non numeric values.\n",
        "df1 = df.select_dtypes(include=['float', 'int'])\n",
        "print(df1.dtypes)\n",
        "\n",
        "# standardize the values in the data frame\n",
        "df1 = (df1 - df1.mean()) / df1.std()\n",
        "df1.head()\n",
        "\n",
        "# Consider only the following variables in your analysis:\n",
        "# 'GDP','Income composition of resources','Schooling',and 'Total expenditure'.\n",
        "df2 = df1[['CPI','Consumer Debt','Wage Growth','GDP','Employment Rate','Industrial Production',\n",
        "           'House market','Trade balance ','Stock market','Interest Rates', 'Money supply']]\n",
        "df2.head()\n",
        "'''"
      ],
      "metadata": {
        "id": "K9b4hO9BgyeF"
      },
      "execution_count": null,
      "outputs": []
    },
    {
      "cell_type": "code",
      "source": [
        "df2.describe(include = 'all')"
      ],
      "metadata": {
        "id": "vFwjfQLvr8Yy"
      },
      "execution_count": null,
      "outputs": []
    },
    {
      "cell_type": "code",
      "source": [
        "import pandas as pd\n",
        "import numpy as np\n",
        "from matplotlib import pyplot as plt\n",
        "\n",
        "# Set the figure size\n",
        "plt.rcParams[\"figure.figsize\"] = [20, 10]\n",
        "plt.rcParams[\"figure.autolayout\"] = True\n",
        "\n",
        "\n",
        "# Plot the dataframe\n",
        "ax = df2[['CPI','Consumer Debt','Wage Growth','GDP','Employment Rate','Industrial Production',\n",
        "           'House market','Trade balance ','Stock market','Interest Rates', 'Money supply']].plot(kind='box', title='boxplot')\n",
        "\n",
        "# Display the plot\n",
        "plt.show()"
      ],
      "metadata": {
        "id": "IwqiI3wujeXk"
      },
      "execution_count": null,
      "outputs": []
    },
    {
      "cell_type": "code",
      "source": [
        "import seaborn as sns\n",
        "import matplotlib.pyplot as plt\n",
        "\n",
        "# Calculate the correlation matrix\n",
        "corr = df.corr()\n",
        "\n",
        "# Set the figure size\n",
        "fig, ax = plt.subplots(figsize=(45, 10))\n",
        "\n",
        "# Plot the correlation heatmap with larger font size\n",
        "sns.heatmap(corr, annot=True, cmap='coolwarm', ax=ax, annot_kws={\"fontsize\":20},\n",
        "            xticklabels=corr.columns.values, yticklabels=corr.columns.values)\n",
        "\n",
        "# Set the font size of the x-axis and y-axis variable names\n",
        "ax.tick_params(axis='both', which='major', labelsize=20)\n",
        "\n",
        "# Set the font size of the colorbar labels\n",
        "cbar = ax.collections[0].colorbar\n",
        "cbar.ax.tick_params(labelsize=20)\n",
        "\n",
        "# Show the plot\n",
        "plt.show()\n"
      ],
      "metadata": {
        "id": "_i4QqBRFDMyN"
      },
      "execution_count": null,
      "outputs": []
    },
    {
      "cell_type": "code",
      "source": [
        "# libraries & dataset\n",
        "import seaborn as sns\n",
        "import matplotlib.pyplot as plt\n",
        "# set a grey background (use sns.set_theme() if seaborn version 0.11.0 or above)\n",
        "sns.set(style=\"darkgrid\")\n",
        "\n",
        "fig, axs = plt.subplots(2, 2, figsize=(7, 7))\n",
        "\n",
        "sns.histplot(data=df2, x=\"CPI\", kde=True, ax=axs[0, 0])\n",
        "sns.histplot(data=df2, x=\"Consumer Debt\", kde=True, ax=axs[0, 1])\n",
        "sns.histplot(data=df2, x=\"Wage Growth\", kde=True, ax=axs[1, 0])\n",
        "sns.histplot(data=df2, x=\"GDP\", kde=True, ax=axs[1, 1])\n",
        "\n",
        "plt.show()"
      ],
      "metadata": {
        "id": "Jcl9FcNsBs1J"
      },
      "execution_count": null,
      "outputs": []
    },
    {
      "cell_type": "code",
      "source": [
        "# set a grey background (use sns.set_theme() if seaborn version 0.11.0 or above)\n",
        "sns.set(style=\"darkgrid\")\n",
        "\n",
        "fig, axs = plt.subplots(2, 2, figsize=(7, 7))\n",
        "\n",
        "sns.histplot(data=df2, x=\"Employment Rate\", kde=True, ax=axs[0, 0])\n",
        "sns.histplot(data=df2, x=\"Industrial Production\", kde=True, ax=axs[0, 1])\n",
        "sns.histplot(data=df2, x=\"House market\", kde=True, ax=axs[1, 0])\n",
        "sns.histplot(data=df2, x=\"Trade balance \", kde=True, ax=axs[1, 1])\n",
        "\n",
        "plt.show()\n"
      ],
      "metadata": {
        "id": "jFXZv1riH0Fn"
      },
      "execution_count": null,
      "outputs": []
    },
    {
      "cell_type": "code",
      "source": [
        "# set a grey background (use sns.set_theme() if seaborn version 0.11.0 or above)\n",
        "sns.set(style=\"darkgrid\")\n",
        "\n",
        "fig, axs = plt.subplots(2, 2, figsize=(7, 7))\n",
        "\n",
        "sns.histplot(data=df2, x=\"Stock market\", kde=True, ax=axs[0, 0])\n",
        "sns.histplot(data=df2, x=\"Interest Rates\", kde=True, ax=axs[0, 1])\n",
        "sns.histplot(data=df2, x=\"Money supply\", kde=True, ax=axs[1, 0])\n",
        "sns.histplot(data=df, x=\"Target\", kde=True, ax=axs[1, 1])\n",
        "\n",
        "plt.show()"
      ],
      "metadata": {
        "id": "zix_fXokITsf"
      },
      "execution_count": null,
      "outputs": []
    },
    {
      "cell_type": "code",
      "source": [
        "df.describe(include=\"all\")"
      ],
      "metadata": {
        "id": "kceNv9jMTSak"
      },
      "execution_count": null,
      "outputs": []
    },
    {
      "cell_type": "code",
      "source": [
        "from sklearn.linear_model import LogisticRegression\n",
        "from sklearn.metrics import accuracy_score\n",
        "from sklearn.model_selection import train_test_split\n",
        "import pandas as pd\n",
        "\n",
        "\n",
        "# Split the data into training and testing sets\n",
        "X_train, X_test, y_train, y_test = train_test_split(df_final, df['Target'], test_size=0.25, random_state=42)\n",
        "\n",
        "# Create the logistic regression model and fit it to the training data\n",
        "model = LogisticRegression()\n",
        "model.fit(X_train, y_train)\n",
        "\n",
        "# Make predictions on the testing data and calculate the accuracy\n",
        "y_pred = model.predict(X_test)\n",
        "accuracy = accuracy_score(y_test, y_pred)\n",
        "\n",
        "print(f\"Accuracy: {accuracy}\")\n"
      ],
      "metadata": {
        "id": "lcBNYZ7w3OPA"
      },
      "execution_count": null,
      "outputs": []
    },
    {
      "cell_type": "code",
      "source": [
        "from sklearn.metrics import f1_score, precision_score, recall_score, mean_squared_error\n",
        "f1 = f1_score(y_test, y_pred)\n",
        "precision = precision_score(y_test, y_pred)\n",
        "recall = recall_score(y_test, y_pred)\n",
        "rmse = mean_squared_error(y_test, y_pred, squared=False)\n",
        "from sklearn.linear_model import LogisticRegression\n",
        "from sklearn.metrics import accuracy_score, f1_score, precision_score, recall_score, mean_squared_error\n",
        "from sklearn.model_selection import train_test_split\n",
        "import pandas as pd\n",
        "\n",
        "# Split the data into training and testing sets\n",
        "X_train, X_test, y_train, y_test = train_test_split(df_final, df['Target'], test_size=0.25, random_state=42)\n",
        "\n",
        "# Create the logistic regression model and fit it to the training data\n",
        "model = LogisticRegression()\n",
        "model.fit(X_train, y_train)\n",
        "\n",
        "# Make predictions on the testing data and calculate the accuracy\n",
        "y_pred = model.predict(X_test)\n",
        "accuracy = accuracy_score(y_test, y_pred)\n",
        "f1 = f1_score(y_test, y_pred)\n",
        "precision = precision_score(y_test, y_pred)\n",
        "recall = recall_score(y_test, y_pred)\n",
        "rmse = mean_squared_error(y_test, y_pred, squared=False)"
      ],
      "metadata": {
        "id": "Z4rGTv5WVMfY"
      },
      "execution_count": null,
      "outputs": []
    },
    {
      "cell_type": "code",
      "source": [
        "from sklearn.tree import DecisionTreeClassifier\n",
        "from sklearn.naive_bayes import GaussianNB\n",
        "from sklearn.neighbors import KNeighborsClassifier\n",
        "from sklearn.metrics import accuracy_score\n",
        "from sklearn.model_selection import train_test_split\n",
        "import pandas as pd\n",
        "\n",
        "\n",
        "# Split the data into training and testing sets\n",
        "X_train, X_test, y_train, y_test = train_test_split(df_final, df['Target'], test_size=0.25, random_state=42)\n",
        "\n",
        "# Create and fit the classification tree model\n",
        "clf_tree = DecisionTreeClassifier()\n",
        "clf_tree.fit(X_train, y_train)\n",
        "\n",
        "# Create and fit the naive Bayes model\n",
        "clf_nb = GaussianNB()\n",
        "clf_nb.fit(X_train, y_train)\n",
        "\n",
        "# Create and fit the kNN model\n",
        "clf_knn = KNeighborsClassifier()\n",
        "clf_knn.fit(X_train, y_train)\n",
        "\n",
        "# Make predictions on the testing data and calculate the accuracy\n",
        "clf_tree_pred = clf_tree.predict(X_test)\n",
        "clf_tree_acc = accuracy_score(y_test, clf_tree_pred)\n",
        "\n",
        "clf_nb_pred = clf_nb.predict(X_test)\n",
        "clf_nb_acc = accuracy_score(y_test, clf_nb_pred)\n",
        "\n",
        "clf_knn_pred = clf_knn.predict(X_test)\n",
        "clf_knn_acc = accuracy_score(y_test, clf_knn_pred)\n",
        "\n"
      ],
      "metadata": {
        "id": "XIJEWfgk3ORh"
      },
      "execution_count": null,
      "outputs": []
    },
    {
      "cell_type": "markdown",
      "source": [
        "### Data models"
      ],
      "metadata": {
        "id": "9BTd4cAFgEdz"
      }
    },
    {
      "cell_type": "code",
      "source": [
        "pip install pydotplus"
      ],
      "metadata": {
        "id": "3HEIzGpPg4VN"
      },
      "execution_count": null,
      "outputs": []
    },
    {
      "cell_type": "code",
      "source": [
        "from sklearn.neural_network import MLPClassifier\n",
        "from sklearn.discriminant_analysis import LinearDiscriminantAnalysis\n",
        "from sklearn.metrics import accuracy_score\n",
        "from sklearn.model_selection import train_test_split\n",
        "import pandas as pd\n",
        "\n",
        "# Split the data into training and testing sets\n",
        "X_train, X_test, y_train, y_test = train_test_split(df_final, df['Target'], test_size=0.25, random_state=42)\n",
        "\n",
        "# Create and fit the neural network model\n",
        "mlp = MLPClassifier(hidden_layer_sizes=(20,10), max_iter=5000, random_state=42)\n",
        "mlp.fit(X_train, y_train)\n",
        "\n",
        "# Create and fit the discriminant analysis model\n",
        "lda = LinearDiscriminantAnalysis()\n",
        "lda.fit(X_train, y_train)\n",
        "\n",
        "# Make predictions on the testing data and calculate the accuracy\n",
        "mlp_pred = mlp.predict(X_test)\n",
        "mlp_acc = accuracy_score(y_test, mlp_pred)\n",
        "\n",
        "lda_pred = lda.predict(X_test)\n",
        "lda_acc = accuracy_score(y_test, lda_pred)\n",
        "\n"
      ],
      "metadata": {
        "id": "y1tmsZY66XNh"
      },
      "execution_count": null,
      "outputs": []
    },
    {
      "cell_type": "code",
      "source": [
        "from sklearn.tree import DecisionTreeClassifier\n",
        "from sklearn.model_selection import GridSearchCV, cross_val_score, train_test_split\n",
        "from sklearn.metrics import accuracy_score\n",
        "import pandas as pd\n",
        "\n",
        "# Split the data into training and testing sets\n",
        "X_train, X_test, y_train, y_test = train_test_split(df_final, df['Target'], test_size=0.25, random_state=42)\n",
        "\n",
        "# Create the classifier\n",
        "clf = DecisionTreeClassifier(random_state=42)\n",
        "\n",
        "# Define the parameters for grid search\n",
        "params = {'max_depth': range(1, 11), 'min_samples_leaf': range(1, 11)}\n",
        "\n",
        "# Perform grid search with cross-validation to find the best hyperparameters\n",
        "grid_search = GridSearchCV(clf, params, cv=5)\n",
        "grid_search.fit(X_train, y_train)\n",
        "\n",
        "# Get the best hyperparameters and fit the model with them\n",
        "best_params = grid_search.best_params_\n",
        "clf = DecisionTreeClassifier(max_depth=best_params['max_depth'], min_samples_leaf=best_params['min_samples_leaf'], random_state=42)\n",
        "clf.fit(X_train, y_train)\n",
        "\n",
        "# Perform cross-validation to get the average accuracy\n",
        "cv_acc = cross_val_score(clf, X_train, y_train, cv=5).mean()\n",
        "\n",
        "# Make predictions on the testing data and calculate the accuracy\n",
        "clf_pred = clf.predict(X_test)\n",
        "clf_acc = accuracy_score(y_test, clf_pred)\n",
        "\n",
        "\n",
        "# Perform pruning with the best hyperparameters\n",
        "path = clf.cost_complexity_pruning_path(X_train, y_train)\n",
        "ccp_alphas = path.ccp_alphas\n",
        "clfs = []\n",
        "for ccp_alpha in ccp_alphas:\n",
        "    clf = DecisionTreeClassifier(random_state=42, ccp_alpha=ccp_alpha)\n",
        "    clf.fit(X_train, y_train)\n",
        "    clfs.append(clf)\n",
        "\n",
        "# Remove the last classifier since it corresponds to the alpha that prunes all the leaves\n",
        "clfs = clfs[:-1]\n",
        "\n",
        "# Calculate the accuracy of each pruned tree using cross-validation\n",
        "pruned_accs = []\n",
        "for clf in clfs:\n",
        "    pruned_acc = cross_val_score(clf, X_train, y_train, cv=2).mean()\n",
        "    pruned_accs.append(pruned_acc)\n",
        "\n",
        "# Get the best pruned classifier and fit the model with it\n",
        "best_clf = clfs[pruned_accs.index(max(pruned_accs))]\n",
        "best_clf.fit(X_train, y_train)\n",
        "3\n",
        "# Make predictions on the testing data and calculate the accuracy\n",
        "pruned_pred = best_clf.predict(X_test)\n",
        "pruned_acc = accuracy_score(y_test, pruned_pred)\n",
        "\n"
      ],
      "metadata": {
        "id": "Ubaj1UGG9rso"
      },
      "execution_count": null,
      "outputs": []
    },
    {
      "cell_type": "code",
      "source": [
        "from sklearn.tree import DecisionTreeClassifier\n",
        "from sklearn.naive_bayes import GaussianNB\n",
        "from sklearn.neighbors import KNeighborsClassifier\n",
        "from sklearn.metrics import accuracy_score, f1_score, recall_score, precision_score\n",
        "from sklearn.model_selection import train_test_split\n",
        "import pandas as pd\n",
        "\n",
        "# Split the data into training and testing sets\n",
        "X_train, X_test, y_train, y_test = train_test_split(df_final, df['Target'], test_size=0.25, random_state=42)\n",
        "\n",
        "# Create and fit the classification tree model\n",
        "clf_tree = DecisionTreeClassifier()\n",
        "clf_tree.fit(X_train, y_train)\n",
        "\n",
        "# Create and fit the naive Bayes model\n",
        "clf_nb = GaussianNB()\n",
        "clf_nb.fit(X_train, y_train)\n",
        "\n",
        "# Create and fit the kNN model\n",
        "clf_knn = KNeighborsClassifier()\n",
        "clf_knn.fit(X_train, y_train)\n",
        "\n",
        "# Make predictions on the testing data and calculate the accuracy\n",
        "clf_tree_pred = clf_tree.predict(X_test)\n",
        "clf_tree_acc = accuracy_score(y_test, clf_tree_pred)\n",
        "clf_tree_f1 = f1_score(y_test, clf_tree_pred, average='macro')\n",
        "clf_tree_recall = recall_score(y_test, clf_tree_pred, average='macro')\n",
        "clf_tree_precision = precision_score(y_test, clf_tree_pred, average='macro')\n",
        "\n",
        "clf_nb_pred = clf_nb.predict(X_test)\n",
        "clf_nb_acc = accuracy_score(y_test, clf_nb_pred)\n",
        "clf_nb_f1 = f1_score(y_test, clf_nb_pred, average='macro')\n",
        "clf_nb_recall = recall_score(y_test, clf_nb_pred, average='macro')\n",
        "clf_nb_precision = precision_score(y_test, clf_nb_pred, average='macro')\n",
        "\n",
        "clf_knn_pred = clf_knn.predict(X_test)\n",
        "clf_knn_acc = accuracy_score(y_test, clf_knn_pred)\n",
        "clf_knn_f1 = f1_score(y_test, clf_knn_pred, average='macro')\n",
        "clf_knn_recall = recall_score(y_test, clf_knn_pred, average='macro')\n",
        "clf_knn_precision = precision_score(y_test, clf_knn_pred, average='macro')\n",
        "\n",
        "\n"
      ],
      "metadata": {
        "id": "Oe2fjEdrJtfJ"
      },
      "execution_count": null,
      "outputs": []
    },
    {
      "cell_type": "code",
      "source": [
        "from sklearn.metrics import roc_curve, auc\n",
        "import matplotlib.pyplot as plt\n",
        "\n",
        "# Get the predicted probabilities for the positive class (class 1)\n",
        "clf_knn_prob = clf_knn.predict_proba(X_test)[:,1]\n",
        "\n",
        "# Calculate the false positive rate, true positive rate, and thresholds\n",
        "fpr, tpr, thresholds = roc_curve(y_test, clf_knn_prob)\n",
        "\n",
        "# Calculate the area under the curve (AUC)\n",
        "roc_auc = auc(fpr, tpr)\n",
        "\n",
        "# Plot the ROC curve\n",
        "plt.figure()\n",
        "plt.plot(fpr, tpr, color='darkorange', lw=2, label='ROC curve (area = %0.2f)' % roc_auc)\n",
        "plt.plot([0, 1], [0, 1], color='navy', lw=2, linestyle='--')\n",
        "plt.xlim([0.0, 1.0])\n",
        "plt.ylim([0.0, 1.05])\n",
        "plt.xlabel('False Positive Rate')\n",
        "plt.ylabel('True Positive Rate')\n",
        "plt.title('Receiver operating characteristic for kNN')\n",
        "plt.legend(loc=\"lower right\")\n",
        "plt.show()\n"
      ],
      "metadata": {
        "id": "Y06sgF8HKATt"
      },
      "execution_count": null,
      "outputs": []
    },
    {
      "cell_type": "code",
      "source": [
        "from sklearn.metrics import precision_score, recall_score, f1_score\n",
        "from imblearn.over_sampling import RandomOverSampler\n",
        "\n",
        "def oversample_and_fit(clf, X_train, y_train, X_test, y_test):\n",
        "    # Oversample the training data\n",
        "    oversampler = RandomOverSampler(random_state=42)\n",
        "    X_train_resampled, y_train_resampled = oversampler.fit_resample(X_train, y_train)\n",
        "\n",
        "    # Fit the classifier on the oversampled data\n",
        "    clf.fit(X_train_resampled, y_train_resampled)\n",
        "\n",
        "    # Make predictions on the testing data\n",
        "    y_pred = clf.predict(X_test)\n",
        "\n",
        "    # Calculate the F1 score, recall, and precision\n",
        "    f1 = f1_score(y_test, y_pred)\n",
        "    recall = recall_score(y_test, y_pred)\n",
        "    precision = precision_score(y_test, y_pred)\n",
        "\n",
        "    return f1, recall, precision\n"
      ],
      "metadata": {
        "id": "b3ylGXM0RQxP"
      },
      "execution_count": null,
      "outputs": []
    },
    {
      "cell_type": "code",
      "source": [
        "# Oversample and fit the classification tree model\n",
        "clf_tree_oversampled = DecisionTreeClassifier()\n",
        "clf_tree_f1, clf_tree_recall, clf_tree_precision = oversample_and_fit(clf_tree_oversampled, X_train, y_train, X_test, y_test)\n",
        "\n",
        "# Oversample and fit the naive Bayes model\n",
        "clf_nb_oversampled = GaussianNB()\n",
        "clf_nb_f1, clf_nb_recall, clf_nb_precision = oversample_and_fit(clf_nb_oversampled, X_train, y_train, X_test, y_test)\n",
        "\n",
        "# Oversample and fit the kNN model\n",
        "clf_knn_oversampled = KNeighborsClassifier()\n",
        "clf_knn_f1, clf_knn_recall, clf_knn_precision = oversample_and_fit(clf_knn_oversampled, X_train, y_train, X_test, y_test)\n"
      ],
      "metadata": {
        "id": "A03leVdZRSck"
      },
      "execution_count": null,
      "outputs": []
    },
    {
      "cell_type": "code",
      "source": [
        "from sklearn.metrics import classification_report, confusion_matrix, mean_squared_error\n",
        "import numpy as np\n",
        "# Neural Network\n",
        "mlp_report = classification_report(y_test, mlp_pred)\n",
        "mlp_confusion = confusion_matrix(y_test, mlp_pred)\n",
        "mlp_rmse = np.sqrt(mean_squared_error(y_test, mlp_pred))\n",
        "\n",
        "# Discriminant Analysis\n",
        "lda_report = classification_report(y_test, lda_pred)\n",
        "lda_confusion = confusion_matrix(y_test, lda_pred)\n",
        "lda_rmse = np.sqrt(mean_squared_error(y_test, lda_pred))\n",
        "\n"
      ],
      "metadata": {
        "id": "upG0spk7TBAu"
      },
      "execution_count": null,
      "outputs": []
    },
    {
      "cell_type": "code",
      "source": [
        "from sklearn.linear_model import LogisticRegression\n",
        "from sklearn.tree import DecisionTreeClassifier\n",
        "from sklearn.naive_bayes import GaussianNB\n",
        "from sklearn.neighbors import KNeighborsClassifier\n",
        "from sklearn.neural_network import MLPClassifier\n",
        "from sklearn.discriminant_analysis import LinearDiscriminantAnalysis\n",
        "from sklearn.metrics import accuracy_score, precision_score, f1_score, mean_squared_error, mean_absolute_error\n",
        "from sklearn.model_selection import train_test_split\n",
        "import pandas as pd\n",
        "import numpy as np\n",
        "\n",
        "\n",
        "# Split the data into training and testing sets\n",
        "X_train, X_test, y_train, y_test = train_test_split(df_final, df['Target'], test_size=0.25, random_state=42)\n",
        "\n",
        "# Create and fit the models\n",
        "models = {\n",
        "    \"Logistic Regression\": LogisticRegression(),\n",
        "    \"Classification Tree\": DecisionTreeClassifier(),\n",
        "    \"Naive Bayes\": GaussianNB(),\n",
        "    \"k-NN\": KNeighborsClassifier(),\n",
        "    \"Neural Network\": MLPClassifier(hidden_layer_sizes=(20,10), max_iter=5000, random_state=42),\n",
        "    \"Discriminant Analysis\": LinearDiscriminantAnalysis()\n",
        "}\n",
        "\n",
        "results = []\n",
        "for name, model in models.items():\n",
        "    model.fit(X_train, y_train)\n",
        "    y_pred = model.predict(X_test)\n",
        "    accuracy = accuracy_score(y_test, y_pred)\n",
        "    precision = precision_score(y_test, y_pred, average='weighted')\n",
        "    f1 = f1_score(y_test, y_pred, average='weighted')\n",
        "    mse = mean_squared_error(y_test, y_pred)\n",
        "    rmse = np.sqrt(mse)\n",
        "    results.append([name, accuracy, precision, f1, mse, rmse])\n",
        "\n",
        "# Print the results as a table\n",
        "results_df = pd.DataFrame(results, columns=[\"Model\", \"Accuracy\", \"Precision\", \"F1 Score\", \"MSE\", \"RMSE\"])\n",
        "print(results_df)\n"
      ],
      "metadata": {
        "id": "QbM7M663bdrQ"
      },
      "execution_count": null,
      "outputs": []
    },
    {
      "cell_type": "code",
      "source": [
        "import matplotlib.pyplot as plt\n",
        "\n",
        "# Define colors for each model\n",
        "colors = ['#1f77b4', '#ff7f0e', '#2ca02c', '#d62728', '#9467bd', '#8c564b']\n",
        "\n",
        "# Bar plot for Accuracy\n",
        "plt.figure(figsize=(8,6))\n",
        "plt.bar(results_df['Model'], results_df['Accuracy'], color=colors)\n",
        "plt.title('Accuracy of Models')\n",
        "plt.xlabel('Models')\n",
        "plt.xticks(rotation=45, ha='right')\n",
        "plt.ylabel('Accuracy')\n",
        "plt.show()\n",
        "\n",
        "# Bar plot for Precision\n",
        "plt.figure(figsize=(8,6))\n",
        "plt.bar(results_df['Model'], results_df['Precision'], color=colors)\n",
        "plt.title('Precision of Models')\n",
        "plt.xlabel('Models')\n",
        "plt.xticks(rotation=45, ha='right')\n",
        "plt.ylabel('Precision')\n",
        "plt.show()\n",
        "\n",
        "# Bar plot for F1 Score\n",
        "plt.figure(figsize=(8,6))\n",
        "plt.bar(results_df['Model'], results_df['F1 Score'], color=colors)\n",
        "plt.title('F1 Score of Models')\n",
        "plt.xlabel('Models')\n",
        "plt.xticks(rotation=45, ha='right')\n",
        "plt.ylabel('F1 Score')\n",
        "plt.show()\n",
        "\n",
        "# Bar plot for MSE\n",
        "plt.figure(figsize=(8,6))\n",
        "plt.bar(results_df['Model'], results_df['MSE'], color=colors)\n",
        "plt.title('MSE of Models')\n",
        "plt.xlabel('Models')\n",
        "plt.xticks(rotation=45, ha='right')\n",
        "plt.ylabel('MSE')\n",
        "plt.show()\n",
        "\n",
        "# Bar plot for RMSE\n",
        "plt.figure(figsize=(8,6))\n",
        "plt.bar(results_df['Model'], results_df['RMSE'], color=colors)\n",
        "plt.title('RMSE of Models')\n",
        "plt.xlabel('Models')\n",
        "plt.xticks(rotation=45, ha='right')\n",
        "plt.ylabel('RMSE')\n",
        "plt.show()\n"
      ],
      "metadata": {
        "id": "1vfg8qR7c8zJ"
      },
      "execution_count": null,
      "outputs": []
    }
  ]
}